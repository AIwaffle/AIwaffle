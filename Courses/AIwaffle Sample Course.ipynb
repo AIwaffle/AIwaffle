{
 "cells": [
  {
   "cell_type": "markdown",
   "metadata": {},
   "source": [
    "# This is a experimental course of project [AIwaffle](https://github.com/AIwaffle/AIwaffle), an AI learning platform completely made by high school students\n",
    "Check out our [github repo](https://github.com/AIwaffle/AIwaffle) and www.aiwaffle.com for more information\n",
    "\n",
    "Author: Yulun Wu"
   ]
  },
  {
   "cell_type": "markdown",
   "metadata": {},
   "source": [
    "# Learning Tools\n",
    "In practice, it should be hidden"
   ]
  },
  {
   "cell_type": "code",
   "execution_count": null,
   "metadata": {
    "_cell_guid": "79c7e3d0-c299-4dcb-8224-4455121ee9b0",
    "_uuid": "d629ff2d2480ee46fbb7e2d37f6b5fab8052498a",
    "scrolled": false
   },
   "outputs": [],
   "source": [
    "import numpy as np\n",
    "import torch, torch.nn as nn\n",
    "import seaborn as sns\n",
    "import math\n",
    "from matplotlib import pyplot as plt\n",
    "print(torch.__version__)\n",
    "\n",
    "def generate_data(size, k, b, noise=0.):\n",
    "    data = np.random.rand(size, 3)\n",
    "    for i in range(size):\n",
    "        if i <= size * (1 - noise):\n",
    "            data[i, 2] = 1 if k * data[i, 0] + b > data[i, 1] else 0\n",
    "        else:\n",
    "            data[i, 2] = np.random.randint(0, 2)\n",
    "    np.random.shuffle(data)\n",
    "    return data\n",
    "\n",
    "def q1_check():\n",
    "    print(\"Right\" if abs(sigmoid(3) - 0.9525741268224331) < 1e-5 else \"Wrong\")\n",
    "    \n",
    "def q1_hint():\n",
    "    print(\"\"\"def sigmoid(x):\n",
    "    return 1 / (1 + math.e ** (-x))\"\"\")\n",
    "\n",
    "def q2_hint():\n",
    "    print(\"\"\"model = nn.Sequential(\n",
    "    nn.Linear(2, 1),\n",
    "    nn.Sigmoid()\n",
    ")\"\"\")\n",
    "    \n",
    "def q3_hint():\n",
    "    print(\"\"\"optimizer = torch.optim.SGD(model.parameters(), lr=0.01, momentum=0.9) # See https://pytorch.org/docs/stable/optim.html#\n",
    "X = torch.tensor(data[:, 0:2], dtype=torch.float)\n",
    "Y = torch.tensor(data[:, 2].reshape((-1, 1)), dtype=torch.float)\n",
    "print(\"X.shape =\", X.shape, \"Y.shape =\", Y.shape)\n",
    "\n",
    "epochs = 1000\n",
    "loss_function = nn.L1Loss()\n",
    "for epoch in range(epochs):\n",
    "    optimizer.zero_grad()\n",
    "    \n",
    "    prediction = model(X)\n",
    "    loss = loss_function(prediction, Y)\n",
    "    loss.backward()\n",
    "    \n",
    "    optimizer.step()\n",
    "    \n",
    "plot_decision_boundary(model, X, Y)\"\"\")\n",
    "    \n",
    "\n",
    "def plot_decision_boundary(model, X, Y):\n",
    "    from matplotlib import pyplot as plt\n",
    "    # Generate a grid of points with distance h between them\n",
    "    xx, yy = torch.meshgrid(torch.arange(-0.1, 1.1, 0.1), torch.arange(-0.1, 1.1, 0.1))\n",
    "    # Predict the function value for the whole grid\n",
    "    pred = model(torch.stack([xx.flatten(), yy.flatten()], dim=1))\n",
    "    pred = pred.reshape(xx.shape)\n",
    "    # Plot the contour and training examples\n",
    "    plt.contourf(xx.detach(), yy.detach(), pred.detach(), cmap=plt.cm.Spectral)\n",
    "    plt.ylabel('x2')\n",
    "    plt.xlabel('x1')\n",
    "    plt.scatter(X[:, 0], X[:, 1], c=Y.flatten(), cmap=plt.cm.Spectral)\n",
    "    plt.show()"
   ]
  },
  {
   "cell_type": "markdown",
   "metadata": {},
   "source": [
    "# Course Body\n",
    "* Fill out `None` and `pass` to proceed  \n",
    "* Uncomment `qx_hint` to see the answer"
   ]
  },
  {
   "cell_type": "markdown",
   "metadata": {},
   "source": [
    "## Quest 1: implement sigmoid function\n",
    "$$Sigmoid(x) = \\frac{1}{1 + e^{-x}}$$"
   ]
  },
  {
   "cell_type": "code",
   "execution_count": null,
   "metadata": {
    "scrolled": false
   },
   "outputs": [],
   "source": [
    "def sigmoid(x):\n",
    "    \n",
    "    out = None\n",
    "    \n",
    "    return out\n",
    "\n",
    "q1_check()\n",
    "# q1_hint()"
   ]
  },
  {
   "cell_type": "markdown",
   "metadata": {},
   "source": [
    "## Quest 2: build the network\n",
    "![image.png](https://i.loli.net/2020/04/16/GFE3bO4Bzlxhft8.png)\n",
    "\n",
    "You will need to use:  \n",
    "https://pytorch.org/docs/stable/nn.html#sequential  \n",
    "https://pytorch.org/docs/stable/nn.html#linear  \n",
    "https://pytorch.org/docs/stable/nn.html#sigmoid   \n"
   ]
  },
  {
   "cell_type": "code",
   "execution_count": null,
   "metadata": {
    "scrolled": false
   },
   "outputs": [],
   "source": [
    "model = nn.Sequential(\n",
    "    None\n",
    ")\n",
    "\n",
    "# q2_hint()"
   ]
  },
  {
   "cell_type": "markdown",
   "metadata": {},
   "source": [
    "## Quest 3: train the network\n",
    "You will need to use:  \n",
    "https://pytorch.org/docs/stable/nn.html#l1loss "
   ]
  },
  {
   "cell_type": "code",
   "execution_count": null,
   "metadata": {
    "scrolled": false
   },
   "outputs": [],
   "source": [
    "# run the code below to inspect the data\n",
    "data = generate_data(100, 1, 0, 0.2)\n",
    "sns.scatterplot(x=data[:, 0], y=data[:, 1], hue = data[:, 2])"
   ]
  },
  {
   "cell_type": "code",
   "execution_count": null,
   "metadata": {
    "scrolled": false
   },
   "outputs": [],
   "source": [
    "optimizer = torch.optim.SGD(model.parameters(), lr=0.01, momentum=0.9) # See https://pytorch.org/docs/stable/optim.html#\n",
    "X = torch.tensor(data[:, 0:2], dtype=torch.float)\n",
    "Y = torch.tensor(data[:, 2].reshape((-1, 1)), dtype=torch.float)\n",
    "print(\"X.shape =\", X.shape, \"Y.shape =\", Y.shape)\n",
    "\n",
    "epochs = None\n",
    "loss_function = None\n",
    "for epoch in range(epochs):\n",
    "    optimizer.zero_grad()\n",
    "    \n",
    "    pass\n",
    "    \n",
    "    optimizer.step()\n",
    "    \n",
    "plot_decision_boundary(model, X, Y)\n",
    "\n",
    "# q3_hint()"
   ]
  },
  {
   "cell_type": "markdown",
   "metadata": {},
   "source": [
    "# Well done!\n",
    "Check out our [github repo](https://github.com/AIwaffle/AIwaffle) for more information"
   ]
  }
 ],
 "metadata": {
  "kernelspec": {
   "display_name": "Python 3",
   "language": "python",
   "name": "python3"
  },
  "language_info": {
   "codemirror_mode": {
    "name": "ipython",
    "version": 3
   },
   "file_extension": ".py",
   "mimetype": "text/x-python",
   "name": "python",
   "nbconvert_exporter": "python",
   "pygments_lexer": "ipython3",
   "version": "3.7.6"
  }
 },
 "nbformat": 4,
 "nbformat_minor": 4
}
